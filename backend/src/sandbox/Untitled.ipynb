{
 "cells": [
  {
   "cell_type": "code",
   "execution_count": null,
   "id": "14e1fbb5",
   "metadata": {},
   "outputs": [],
   "source": [
    "fsdgsdgs"
   ]
  },
  {
   "cell_type": "raw",
   "id": "c54748f3",
   "metadata": {},
   "source": [
    "sdfsdv"
   ]
  },
  {
   "cell_type": "markdown",
   "id": "853c07a7",
   "metadata": {},
   "source": [
    "# "
   ]
  }
 ],
 "metadata": {
  "kernelspec": {
   "display_name": "Python 3",
   "language": "python",
   "name": "python3"
  },
  "language_info": {
   "codemirror_mode": {
    "name": "ipython",
    "version": 3
   },
   "file_extension": ".py",
   "mimetype": "text/x-python",
   "name": "python",
   "nbconvert_exporter": "python",
   "pygments_lexer": "ipython3",
   "version": "3.9.7"
  }
 },
 "nbformat": 4,
 "nbformat_minor": 5
}
